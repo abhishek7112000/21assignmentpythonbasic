{
 "cells": [
  {
   "cell_type": "code",
   "execution_count": null,
   "id": "73631012-d2e1-41dc-91b8-eb7905ece795",
   "metadata": {},
   "outputs": [],
   "source": [
    "1. Add the current date to the text file today.txt as a string."
   ]
  },
  {
   "cell_type": "code",
   "execution_count": null,
   "id": "e533c932-59e4-488c-9639-fd4d5ecc8f0f",
   "metadata": {},
   "outputs": [],
   "source": [
    "ans- import datetime\n",
    "# Code to Add current date to the today.txt file\n",
    "file = open('today.txt','w')\n",
    "file.write(datetime.datetime.now().strftime(\"%d-%m-%Y\"))\n",
    "file.close()\n",
    "# Code to Read current date from today.txt file\n",
    "file = open('today.txt','r')\n",
    "print(file.read())\n",
    "file.close()\n",
    "22-09-2021"
   ]
  },
  {
   "cell_type": "code",
   "execution_count": null,
   "id": "4f649ce5-f90d-423a-8fde-e567cc007300",
   "metadata": {},
   "outputs": [],
   "source": [
    "2. Read the text file today.txt into the string today_string"
   ]
  },
  {
   "cell_type": "code",
   "execution_count": null,
   "id": "b68894ad-1d8e-4636-9848-709c50ad4f6f",
   "metadata": {},
   "outputs": [],
   "source": [
    "ans- file = open('today.txt','r')\n",
    "today_string = file.read()\n",
    "print(today_string)\n",
    "22-09-2021"
   ]
  },
  {
   "cell_type": "code",
   "execution_count": null,
   "id": "6fd0d01a-1827-452b-9203-659e31953529",
   "metadata": {},
   "outputs": [],
   "source": [
    "3. Parse the date from today_string."
   ]
  },
  {
   "cell_type": "code",
   "execution_count": null,
   "id": "718ef1c4-3421-47d6-87e1-48b8257a930b",
   "metadata": {},
   "outputs": [],
   "source": [
    "ans- from datetime import datetime\n",
    "parsed_data = datetime.strptime(today_string, '%d-%m-%Y')\n",
    "print(parsed_data)\n",
    "2021-09-22 00:00:00"
   ]
  },
  {
   "cell_type": "code",
   "execution_count": null,
   "id": "843358ab-bbe5-4a9a-a886-38ad8d707b25",
   "metadata": {},
   "outputs": [],
   "source": [
    "4. List the files in your current directory"
   ]
  },
  {
   "cell_type": "code",
   "execution_count": null,
   "id": "cd29ec56-58a6-4f7a-81e8-0527b5c95c02",
   "metadata": {},
   "outputs": [],
   "source": [
    "ans- import os\n",
    "for folders, subfolders, files in os.walk(os.getcwd()):\n",
    "    for file in files:\n",
    "        print(file)\n",
    "01.Assignment_01.ipynb\n",
    "02.Assignment_02.ipynb\n",
    "03.Assignment_03.ipynb\n",
    "04.Assignment_04.ipynb\n",
    "05.Assignment_05.ipynb\n",
    "06.Assignment_06.ipynb\n",
    "07.Assignment_07.ipynb\n",
    "08.Assignment_08.ipynb\n",
    "09.Assignment_09.ipynb\n",
    "10.Assignment_10.ipynb\n",
    "11.Assignment_11.ipynb\n",
    "12.Assignment_12.ipynb\n",
    "13.Assignment_13.ipynb\n",
    "14.Assignment_14.ipynb\n",
    "15.Assignment_15.ipynb\n",
    "16.Assignment_16.ipynb\n",
    "17.Assignment_17.ipynb\n",
    "18.Assignment_18.ipynb\n",
    "19.Assignment_19.ipynb\n",
    "20.Assignment_20.ipynb\n",
    "21.Assignment_21.ipynb\n",
    "22.Assignment_22.ipynb\n",
    "23.Assignment_23.ipynb\n",
    "24.Assignment_24.ipynb\n",
    "25.Assignment_25.ipynb\n",
    "today.txt\n",
    "21.Assignment_21-checkpoint.ipynb\n",
    "22.Assignment_22-checkpoint.ipynb\n",
    "23.Assignment_23-checkpoint.ipynb\n",
    "24.Assignment_24-checkpoint.ipynb\n",
    "25.Assignment_25-checkpoint.ipynb"
   ]
  },
  {
   "cell_type": "code",
   "execution_count": null,
   "id": "2e6fdaf8-02a7-4a29-9928-e4b06ae92532",
   "metadata": {},
   "outputs": [],
   "source": [
    "5. Create a list of all of the files in your parent directory (minimum five files should be available)."
   ]
  },
  {
   "cell_type": "code",
   "execution_count": null,
   "id": "df2ba4a0-d552-4c4a-958e-0da12ca900ae",
   "metadata": {},
   "outputs": [],
   "source": [
    "ans- import os \n",
    "os.listdir()\n",
    "['.ipynb_checkpoints',\n",
    " '01.Assignment_01.ipynb',\n",
    " '02.Assignment_02.ipynb',\n",
    " '03.Assignment_03.ipynb',\n",
    " '04.Assignment_04.ipynb',\n",
    " '05.Assignment_05.ipynb',\n",
    " '06.Assignment_06.ipynb',\n",
    " '07.Assignment_07.ipynb',\n",
    " '08.Assignment_08.ipynb',\n",
    " '09.Assignment_09.ipynb',\n",
    " '10.Assignment_10.ipynb',\n",
    " '11.Assignment_11.ipynb',\n",
    " '12.Assignment_12.ipynb',\n",
    " '13.Assignment_13.ipynb',\n",
    " '14.Assignment_14.ipynb',\n",
    " '15.Assignment_15.ipynb',\n",
    " '16.Assignment_16.ipynb',\n",
    " '17.Assignment_17.ipynb',\n",
    " '18.Assignment_18.ipynb',\n",
    " '19.Assignment_19.ipynb',\n",
    " '20.Assignment_20.ipynb',\n",
    " '21.Assignment_21.ipynb',\n",
    " '22.Assignment_22.ipynb',\n",
    " '23.Assignment_23.ipynb',\n",
    " '24.Assignment_24.ipynb',\n",
    " '25.Assignment_25.ipynb',\n",
    " 'today.txt']"
   ]
  },
  {
   "cell_type": "code",
   "execution_count": null,
   "id": "c3c55d15-73de-4b38-a4b6-066d15bfabb6",
   "metadata": {},
   "outputs": [],
   "source": [
    "6. Use multiprocessing to create three separate processes. Make each one wait a random number of seconds between one and five, print the current time, and then exit."
   ]
  },
  {
   "cell_type": "code",
   "execution_count": null,
   "id": "2188d28a-3214-458e-b686-cf4b76081b24",
   "metadata": {},
   "outputs": [],
   "source": [
    "ans- import multiprocessing\n",
    "import time \n",
    "import random\n",
    "import datetime\n",
    "\n",
    "def procOne():\n",
    "    print(f'Proc_one_Starttime -> {datetime.datetime.now()}')\n",
    "    time.sleep(random.randint(1,5))\n",
    "    print(f'Proc_one_Endtime -> {datetime.datetime.now()}')\n",
    "    \n",
    "def procTwo():\n",
    "    print(f'Proc_two_Starttime -> {datetime.datetime.now()}')\n",
    "    time.sleep(random.randint(1,5))\n",
    "    print(f'Proc_two_Endtime -> {datetime.datetime.now()}')\n",
    "\n",
    "def procThree():\n",
    "    print(f'Proc_two_Starttime -> {datetime.datetime.now()}')\n",
    "    time.sleep(random.randint(1,5))\n",
    "    print(f'Proc_two_Endtime -> {datetime.datetime.now()}')\n",
    "    \n",
    "if __name__ == \"__main__\":    \n",
    "    p1 = multiprocessing.Process(target=procOne)\n",
    "    p2 = multiprocessing.Process(target=procTwo)\n",
    "    p3 = multiprocessing.Process(target=procThree)\n",
    "\n",
    "    p1.start()\n",
    "    p2.start()\n",
    "    p3.start()\n",
    "\n",
    "    p1.join()\n",
    "    p2.join()\n",
    "    p3.join()"
   ]
  },
  {
   "cell_type": "code",
   "execution_count": null,
   "id": "0e91fa72-291c-40cd-ad08-ca6b5970e596",
   "metadata": {},
   "outputs": [],
   "source": [
    "7. Create a date object of your day of birth."
   ]
  },
  {
   "cell_type": "code",
   "execution_count": null,
   "id": "ac241faa-e6a0-4215-a163-fdddc2feda9f",
   "metadata": {},
   "outputs": [],
   "source": [
    "ans- \n",
    "from datetime import datetime\n",
    "my_dob = datetime.strptime('22/04/1997','%d/%m/%Y')\n",
    "print(my_dob, type(my_dob))\n",
    "1997-04-22 00:00:00 <class 'datetime.datetime'>"
   ]
  },
  {
   "cell_type": "code",
   "execution_count": null,
   "id": "d6949686-3be0-4a5a-8c8b-773349de4860",
   "metadata": {},
   "outputs": [],
   "source": [
    "8. What day of the week was your day of birth?"
   ]
  },
  {
   "cell_type": "code",
   "execution_count": null,
   "id": "b7abc439-77ce-4d0e-bd86-b7df1296a30f",
   "metadata": {},
   "outputs": [],
   "source": []
  }
 ],
 "metadata": {
  "kernelspec": {
   "display_name": "Python 3 (ipykernel)",
   "language": "python",
   "name": "python3"
  },
  "language_info": {
   "codemirror_mode": {
    "name": "ipython",
    "version": 3
   },
   "file_extension": ".py",
   "mimetype": "text/x-python",
   "name": "python",
   "nbconvert_exporter": "python",
   "pygments_lexer": "ipython3",
   "version": "3.10.6"
  }
 },
 "nbformat": 4,
 "nbformat_minor": 5
}
